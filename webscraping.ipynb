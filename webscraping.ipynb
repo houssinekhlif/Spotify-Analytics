{
 "cells": [
  {
   "cell_type": "code",
   "execution_count": 71,
   "id": "646e7750",
   "metadata": {},
   "outputs": [],
   "source": [
    "import pandas as pd\n",
    "import requests\n",
    "import numpy as np"
   ]
  },
  {
   "cell_type": "code",
   "execution_count": 106,
   "id": "cb08caa2",
   "metadata": {},
   "outputs": [
    {
     "name": "stdout",
     "output_type": "stream",
     "text": [
      "Found 7 tables\n",
      "Missing Values:\n",
      " 32\n",
      "Missing Values After Data Imputation:\n",
      " 0\n"
     ]
    },
    {
     "name": "stderr",
     "output_type": "stream",
     "text": [
      "C:\\Users\\21650\\AppData\\Local\\Temp\\ipykernel_4584\\1673263832.py:8: FutureWarning: Passing literal html to 'read_html' is deprecated and will be removed in a future version. To read from a literal string, wrap it in a 'StringIO' object.\n",
      "  tables = pd.read_html(r.text, header=0)\n",
      "C:\\Users\\21650\\AppData\\Local\\Temp\\ipykernel_4584\\1673263832.py:16: SettingWithCopyWarning: \n",
      "A value is trying to be set on a copy of a slice from a DataFrame.\n",
      "Try using .loc[row_indexer,col_indexer] = value instead\n",
      "\n",
      "See the caveats in the documentation: https://pandas.pydata.org/pandas-docs/stable/user_guide/indexing.html#returning-a-view-versus-a-copy\n",
      "  df[\"Country\"] = df[\"Country\"].str.replace(r'\\[.*?\\]', '', regex=True).str.strip()\n",
      "C:\\Users\\21650\\AppData\\Local\\Temp\\ipykernel_4584\\1673263832.py:17: SettingWithCopyWarning: \n",
      "A value is trying to be set on a copy of a slice from a DataFrame.\n",
      "Try using .loc[row_indexer,col_indexer] = value instead\n",
      "\n",
      "See the caveats in the documentation: https://pandas.pydata.org/pandas-docs/stable/user_guide/indexing.html#returning-a-view-versus-a-copy\n",
      "  df[\"GDP (Million USD)\"]=df[\"GDP (Million USD)\"].replace('—',np.nan)\n"
     ]
    }
   ],
   "source": [
    "url = \"https://en.wikipedia.org/wiki/List_of_countries_by_GDP_(nominal)\"\n",
    "headers = {\"User-Agent\": \"Mozilla/5.0 (Windows NT 10.0; Win64; x64)\"}\n",
    "\n",
    "# Make the request pretending to be a browser\n",
    "r = requests.get(url, headers=headers)\n",
    "\n",
    "# Parse HTML tables from the page content\n",
    "tables = pd.read_html(r.text, header=0)\n",
    "\n",
    "print(f\"Found {len(tables)} tables\")\n",
    "df = tables[2]  # the IMF GDP (nominal) table\n",
    "df.drop(columns=[\"World Bank (2022–24)[7]\",\"United Nations (2023)[8]\"],inplace=True)\n",
    "df.columns=[\"Country\",\"GDP (Million USD)\"]\n",
    "df[\"Country\"].unique()\n",
    "df=df[df[\"Country\"]!=\"Israel\"]\n",
    "df[\"Country\"] = df[\"Country\"].str.replace(r'\\[.*?\\]', '', regex=True).str.strip()\n",
    "df[\"GDP (Million USD)\"]=df[\"GDP (Million USD)\"].replace('—',np.nan)\n",
    "print(\"Missing Values:\\n\",df[\"GDP (Million USD)\"].isna().sum())\n",
    "list_of_countries_with_null_entries=df[df[\"GDP (Million USD)\"].isna()][\"Country\"].unique().tolist()\n",
    "\n",
    "gdp_estimates = {\n",
    "    \"Pakistan\": 450_000,\n",
    "    \"Cuba\": 100_000,\n",
    "    \"Sri Lanka\": 80_000,\n",
    "    \"Lebanon\": 20_000,\n",
    "    \"Syria\": 24_000,\n",
    "    \"Afghanistan\": 25_000,\n",
    "    \"North Korea\": 40_000,\n",
    "    \"Palestine\": 15_000,\n",
    "    \"Channel Islands\": 12_000,\n",
    "    \"New Caledonia\": 11_000,\n",
    "    \"Monaco\": 8_000,\n",
    "    \"Bermuda\": 8_000,\n",
    "    \"Liechtenstein\": 7_000,\n",
    "    \"Isle of Man\": 7_000,\n",
    "    \"Cayman Islands\": 7_000,\n",
    "    \"Guam\": 6_000,\n",
    "    \"French Polynesia\": 6_000,\n",
    "    \"U.S. Virgin Islands\": 5_000,\n",
    "    \"Faroe Islands\": 5_000,\n",
    "    \"Greenland\": 4_500,\n",
    "    \"Curaçao\": 4_000,\n",
    "    \"Zanzibar\": 2_500,\n",
    "    \"Eritrea\": 3_500,\n",
    "    \"Turks and Caicos Islands\": 3_000,\n",
    "    \"Sint Maarten\": 3_000,\n",
    "    \"British Virgin Islands\": 2_800,\n",
    "    \"Northern Mariana Islands\": 2_500,\n",
    "    \"American Samoa\": 2_500,\n",
    "    \"Saint Martin\": 2_000,\n",
    "    \"Anguilla\": 1_500,\n",
    "    \"Cook Islands\": 400,\n",
    "    \"Montserrat\": 200\n",
    "}\n",
    "\n",
    "for country, gdp in gdp_estimates.items():\n",
    "    df.loc[df[\"Country\"] == country,\"GDP (Million USD)\"]= gdp\n",
    "\n",
    "print(\"Missing Values After Data Imputation:\\n\",df[\"GDP (Million USD)\"].isna().sum())\n",
    "df=df[df[\"Country\"]!=\"World\"]\n",
    "df.to_csv(\"gdp_per_country.csv\",index=False)"
   ]
  },
  {
   "cell_type": "code",
   "execution_count": 99,
   "id": "eadfae86",
   "metadata": {},
   "outputs": [
    {
     "data": {
      "text/plain": [
       "Country                  World\n",
       "GDP (Million USD)    113795678\n",
       "Name: 0, dtype: object"
      ]
     },
     "execution_count": 99,
     "metadata": {},
     "output_type": "execute_result"
    }
   ],
   "source": [
    "df.iloc[0]"
   ]
  },
  {
   "cell_type": "code",
   "execution_count": null,
   "id": "c06ac594",
   "metadata": {},
   "outputs": [
    {
     "name": "stdout",
     "output_type": "stream",
     "text": [
      "Found 1 tables\n",
      "Missing Data:\n",
      " World_Happiness_Score_2024    0\n",
      "dtype: int64\n"
     ]
    },
    {
     "name": "stderr",
     "output_type": "stream",
     "text": [
      "C:\\Users\\21650\\AppData\\Local\\Temp\\ipykernel_4584\\1667260143.py:8: FutureWarning: Passing literal html to 'read_html' is deprecated and will be removed in a future version. To read from a literal string, wrap it in a 'StringIO' object.\n",
      "  tables = pd.read_html(r.text, header=0)\n"
     ]
    }
   ],
   "source": [
    "url = \"https://worldpopulationreview.com/country-rankings/happiest-countries-in-the-world\"\n",
    "headers = {\"User-Agent\": \"Mozilla/5.0 (Windows NT 10.0; Win64; x64)\"}\n",
    "\n",
    "# Make the request pretending to be a browser\n",
    "r = requests.get(url, headers=headers)\n",
    "\n",
    "# Parse HTML tables from the page content\n",
    "tables = pd.read_html(r.text, header=0)\n",
    "\n",
    "print(f\"Found {len(tables)} tables\")\n",
    "df2 = tables[0]  # the IMF GDP (nominal) table\n",
    "df2.drop(columns=[\"Unnamed: 0\"],inplace=True)\n",
    "df2.columns=[\"Country\",\"World_Happiness_Score_2024\"]\n",
    "df2.drop(axis=0,index=4,inplace=True)\n",
    "df2.set_index(\"Country\",inplace=True)\n",
    "print(\"Missing Data:\\n\",df2.isna().sum())\n",
    "pd.set_option(\"display.max_rows\",None)\n",
    "df2.to_csv(\"Happiness_index_per_country.csv\",header=True)\n"
   ]
  },
  {
   "cell_type": "code",
   "execution_count": 18,
   "id": "9be31cf9",
   "metadata": {},
   "outputs": [
    {
     "data": {
      "text/plain": [
       "Country/Territory           0\n",
       "IMF (2025)[1][6]            0\n",
       "World Bank (2022–24)[7]     0\n",
       "United Nations (2023)[8]    0\n",
       "dtype: int64"
      ]
     },
     "execution_count": 18,
     "metadata": {},
     "output_type": "execute_result"
    }
   ],
   "source": [
    "df.isna().sum()"
   ]
  }
 ],
 "metadata": {
  "kernelspec": {
   "display_name": "Python 3",
   "language": "python",
   "name": "python3"
  },
  "language_info": {
   "codemirror_mode": {
    "name": "ipython",
    "version": 3
   },
   "file_extension": ".py",
   "mimetype": "text/x-python",
   "name": "python",
   "nbconvert_exporter": "python",
   "pygments_lexer": "ipython3",
   "version": "3.12.3"
  }
 },
 "nbformat": 4,
 "nbformat_minor": 5
}
